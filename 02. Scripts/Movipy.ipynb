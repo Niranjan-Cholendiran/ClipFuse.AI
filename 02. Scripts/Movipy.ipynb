{
 "cells": [
  {
   "cell_type": "code",
   "execution_count": null,
   "metadata": {},
   "outputs": [],
   "source": [
    "import os\n",
    "from moviepy.editor import concatenate_videoclips\n",
    "from moviepy.video.VideoClip import ImageClip\n",
    "from moviepy.video.fx.resize import resize\n",
    "from moviepy.video.fx.zooming import * \n",
    "import moviepy.editor as mp\n",
    "from moviepy.video.fx.all import crop\n",
    "from moviepy.editor import VideoFileClip\n",
    "import math\n",
    "from PIL import Image\n",
    "import numpy"
   ]
  },
  {
   "cell_type": "code",
   "execution_count": null,
   "metadata": {},
   "outputs": [],
   "source": [
    "# Function to crop\n",
    "\n",
    "def crop_image_9_16(image_object):\n",
    "    \"\"\"Crop image to 9:16 ratio from center\"\"\"\n",
    "    # Crop the image to a 9:16 aspect ratio from the center\n",
    "    aspect_ratio = 9 / 16\n",
    "    image_width, image_height = image_object.size\n",
    "\n",
    "    if image_width / image_height > aspect_ratio:\n",
    "        new_width = image_height * aspect_ratio\n",
    "        new_height = image_height\n",
    "    else:\n",
    "        new_width = image_width\n",
    "        new_height = image_width / aspect_ratio\n",
    "\n",
    "    crop_x_center = (image_width - new_width) / 2\n",
    "    crop_y_center = (image_height - new_height) / 2\n",
    "\n",
    "    cropped_image = crop(image_object, x_center=image_width / 2, y_center=image_height / 2, width=new_width, height=new_height)\n",
    "    return cropped_image\n"
   ]
  },
  {
   "cell_type": "code",
   "execution_count": null,
   "metadata": {},
   "outputs": [],
   "source": [
    "# Function to zoom\n",
    "def zoom_in_effect(clip, zoom_ratio=0.04):\n",
    "    '''Add zoom effect to the image clips. Credits to https://gist.github.com/mowshon/2a0664fab0ae799734594a5e91e518d5'''\n",
    "    def effect(get_frame, t):\n",
    "        img = Image.fromarray(get_frame(t))\n",
    "        base_size = img.size\n",
    "\n",
    "        new_size = [\n",
    "            math.ceil(img.size[0] * (1 + (zoom_ratio * t))),\n",
    "            math.ceil(img.size[1] * (1 + (zoom_ratio * t)))\n",
    "        ]\n",
    "\n",
    "        # The new dimensions must be even.\n",
    "        new_size[0] = new_size[0] + (new_size[0] % 2)\n",
    "        new_size[1] = new_size[1] + (new_size[1] % 2)\n",
    "\n",
    "        img = img.resize(new_size, Image.LANCZOS)\n",
    "\n",
    "        x = math.ceil((new_size[0] - base_size[0]) / 2)\n",
    "        y = math.ceil((new_size[1] - base_size[1]) / 2)\n",
    "\n",
    "        img = img.crop([\n",
    "            x, y, new_size[0] - x, new_size[1] - y\n",
    "        ]).resize(base_size, Image.LANCZOS)\n",
    "\n",
    "        result = numpy.array(img)\n",
    "        img.close()\n",
    "\n",
    "        return result\n",
    "\n",
    "    return clip.fl(effect)"
   ]
  },
  {
   "cell_type": "code",
   "execution_count": null,
   "metadata": {},
   "outputs": [],
   "source": [
    "image_path = r\"../04. Video Generation Input//00. Images and Videos//Sample Sandboarding3.jpg\"\n",
    "\n",
    "# Create the ImageClip\n",
    "image_clip = ImageClip(image_path).set_duration(img_duration_secs)\n",
    "\n",
    "# Set the duration for the cropped image\n",
    "cropped_image_clip = crop_image_9_16(image_clip)\n",
    "\n",
    "# Add zoom effect\n",
    "zoomed_image_clip= zoom_in_effect(cropped_image_clip, 0.05)\n",
    "\n",
    "# Add \n",
    "final_clip= concatenate_videoclips([zoomed_image_clip], method=\"compose\")\n",
    "final_clip.ipython_display(width= 300, fps=30)\n"
   ]
  },
  {
   "cell_type": "code",
   "execution_count": null,
   "metadata": {},
   "outputs": [],
   "source": [
    "# Merge multiple image clips \n",
    "\n",
    "img_duration_secs= 5\n",
    "image_video1= ImageClip(\"../04. Video Generation Input//00. Images and Videos\\Sample Sandboarding1.jpg\").set_duration(img_duration_secs)\n",
    "image_video2= ImageClip(\"../04. Video Generation Input//00. Images and Videos\\Sample Sandboarding2.jpg\").set_duration(img_duration_secs-2)\n",
    "final_clip= concatenate_videoclips([image_video1, image_video2], method=\"compose\")\n",
    "#final_clip.ipython_display(width= 300)\n",
    "final_clip.write_videofile(\"test.mp4\", fps=30) #, codec='libx264', audio=False, preset='medium', bitrate='4000k')"
   ]
  },
  {
   "cell_type": "code",
   "execution_count": null,
   "metadata": {},
   "outputs": [],
   "source": [
    "# Merge images clips and video clips\n",
    "\n",
    "image_clip= ImageClip(\"../04. Video Generation Input//00. Images and Videos\\Sample Sandboarding2.jpg\").set_duration(img_duration_secs)\n",
    "video_clip= VideoFileClip(\"../04. Video Generation Input//00. Images and Videos//sample_video.mp4\")\n",
    "final_clip= concatenate_videoclips([image_clip, video_clip], method=\"compose\")\n",
    "final_clip.ipython_display(width= 300)"
   ]
  },
  {
   "cell_type": "markdown",
   "metadata": {},
   "source": [
    "# To Do:\n",
    "\n",
    "* Add subtitle\n",
    "* Crop video to 9:16 \n",
    "* Add voiceover with full audio and music with 20% audio"
   ]
  }
 ],
 "metadata": {
  "language_info": {
   "name": "python"
  }
 },
 "nbformat": 4,
 "nbformat_minor": 2
}
