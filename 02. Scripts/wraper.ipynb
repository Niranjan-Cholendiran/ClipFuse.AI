{
 "cells": [
  {
   "cell_type": "code",
   "execution_count": 1,
   "metadata": {},
   "outputs": [
    {
     "data": {
      "text/plain": [
       "True"
      ]
     },
     "execution_count": 1,
     "metadata": {},
     "output_type": "execute_result"
    }
   ],
   "source": [
    "import os\n",
    "import json\n",
    "from ASR import audio_format_converter, ASR_audio_description, concatenate_audio_files\n",
    "from dotenv import load_dotenv\n",
    "from language_model import story_text_generator, subtitle_matcher\n",
    "from playht_processor import custom_voice_creation, text_to_audio, transcript_timestamp\n",
    "\n",
    "load_dotenv()"
   ]
  },
  {
   "cell_type": "code",
   "execution_count": 2,
   "metadata": {},
   "outputs": [],
   "source": [
    "# Collect all video media and description audio location - TODO\n",
    "    # Find the media format (IMAGE/VIDEO)\n",
    "\n",
    "\n",
    "# [optional] Remove noise from the description audio\n",
    "\n",
    "\n",
    "# Transcribe the description audio  \n",
    "\n",
    "\n",
    "# Create story text with the description text\n",
    "\n",
    "\n",
    "# Create custom voice with the description audio\n",
    "\n",
    "\n",
    "# Create custom voiceover with the story text\n",
    "\n",
    "\n",
    "# Generate timestamps & subtitles from the custom voiceover\n",
    "\n",
    "\n",
    "# Create video with voiceover, background music, annimation, [optional] transition and subtitle\n",
    "\n",
    "\n",
    "# [optinal] Erase the input files"
   ]
  },
  {
   "cell_type": "code",
   "execution_count": 2,
   "metadata": {},
   "outputs": [],
   "source": [
    "# Collect all video media and description audio location\n",
    "\n",
    "media_information= {\n",
    "    \"STARTER\":\n",
    "    {\n",
    "        \"title\": \"Vacation to the Great Sand Dunes National Park\",\n",
    "        \"combined_description_audio_loc\":None,\n",
    "        \"transcript_text\":None,\n",
    "        \"transcript_start_sec\":None,\n",
    "        \"transcript_end_sec\":None,\n",
    "        \"number_of_segments\":5\n",
    "    },\n",
    "    \"MEDIA_INFO\": \n",
    "    [\n",
    "        {\n",
    "            \"media_loc\":\"../01. Input Media//01. Video Media//media_01.jpg\",\n",
    "            \"media_format\": \"IMAGE\",\n",
    "            \"description_audio_loc\": \"../01. Input Media//02. Description Audio//Description_01.m4a\",\n",
    "            \"description_audio_format\": \"m4a\",\n",
    "            \"description_text\":None,\n",
    "            \"transcript_text\":None,\n",
    "            \"transcript_start_sec\":None,\n",
    "            \"transcript_end_sec\":None\n",
    "        },\n",
    "        {\n",
    "            \"media_loc\":\"../01. Input Media//01. Video Media//media_02.mp4\",\n",
    "            \"media_format\": \"VIDEO\",\n",
    "            \"description_audio_loc\": \"../01. Input Media//02. Description Audio//Description_02.m4a\",\n",
    "            \"description_audio_format\": \"m4a\",\n",
    "            \"description_text\":None,\n",
    "            \"transcript_text\":None,\n",
    "            \"transcript_start_sec\":None,\n",
    "            \"transcript_end_sec\":None\n",
    "        },\n",
    "        {\n",
    "            \"media_loc\":\"../01. Input Media//01. Video Media//media_03.jpg\",\n",
    "            \"media_format\": \"IMAGE\",\n",
    "            \"description_audio_loc\": \"../01. Input Media//02. Description Audio//Description_03.m4a\",\n",
    "            \"description_audio_format\": \"m4a\",\n",
    "            \"description_text\":None,\n",
    "            \"transcript_text\":None,\n",
    "            \"transcript_start_sec\":None,\n",
    "            \"transcript_end_sec\":None\n",
    "        },\n",
    "        {\n",
    "            \"media_loc\":\"../01. Input Media//01. Video Media//media_04.MOV\",\n",
    "            \"media_format\": \"VIDEO\",\n",
    "            \"description_audio_loc\": \"../01. Input Media//02. Description Audio//Description_04.m4a\",\n",
    "            \"description_audio_format\": \"m4a\",\n",
    "            \"description_text\":None,\n",
    "            \"transcript_text\":None,\n",
    "            \"transcript_start_sec\":None,\n",
    "            \"transcript_end_sec\":None\n",
    "        },\n",
    "        {\n",
    "            \"media_loc\":\"../01. Input Media//01. Video Media//media_05.jpg\",\n",
    "            \"media_format\": \"IMAGE\",\n",
    "            \"description_audio_loc\": \"../01. Input Media//02. Description Audio//Description_05.m4a\",\n",
    "            \"description_audio_format\": \"m4a\",\n",
    "            \"description_text\":None,\n",
    "            \"transcript_text\":None,\n",
    "            \"transcript_start_sec\":None,\n",
    "            \"transcript_end_sec\":None\n",
    "        }\n",
    "    ]\n",
    "}"
   ]
  },
  {
   "cell_type": "code",
   "execution_count": 3,
   "metadata": {},
   "outputs": [
    {
     "name": "stdout",
     "output_type": "stream",
     "text": [
      "segment_num: 0\n",
      "Audio converted and saved in wav format\n",
      "ASR Successful!\n",
      "this is an image of me driving 400 me to the national park in the early morning\n",
      "segment_num: 1\n",
      "Audio converted and saved in wav format\n",
      "ASR Successful!\n",
      "I hiked up the Sand Dune during Sunrise when the sun was pleasant and beautiful\n",
      "segment_num: 2\n",
      "Audio converted and saved in wav format\n",
      "ASR Successful!\n",
      "this is an image of me sandboarding in the hot sun around noon\n",
      "segment_num: 3\n",
      "Audio converted and saved in wav format\n",
      "ASR Successful!\n",
      "I hide to a very small but beautiful waterfall nearby\n",
      "segment_num: 4\n",
      "Audio converted and saved in wav format\n",
      "ASR Successful!\n",
      "I ended the day with my favorite Indian food dosa\n"
     ]
    }
   ],
   "source": [
    "# Transcribe the description audio \n",
    "\n",
    "for segment_num in range (media_information['STARTER']['number_of_segments']):\n",
    "    print(\"segment_num:\",segment_num)\n",
    "\n",
    "    # Convert description media format to WAV (if not)\n",
    "    if (media_information['MEDIA_INFO'][segment_num]['description_audio_format'] not in ['wav', \"WAV\"]):\n",
    "        # Prepare output file location\n",
    "        audio_ip_path= media_information['MEDIA_INFO'][segment_num]['description_audio_loc']\n",
    "        file_dir = os.path.dirname(audio_ip_path)\n",
    "        file_name_with_ext = os.path.basename(audio_ip_path)\n",
    "        file_name, file_extension = os.path.splitext(file_name_with_ext)\n",
    "        audio_op_path = os.path.join(file_dir, file_name+\".wav\")\n",
    "        audio_op_path= audio_op_path.replace(\"\\\\\", \"//\")\n",
    "        #print(audio_ip_path, \"-> \", audio_op_path)\n",
    "        audio_format_converter(audio_ip_path= audio_ip_path, audio_op_path= audio_op_path, format=\"wav\")\n",
    "\n",
    "        # Save the updated description audio location and format\n",
    "        media_information['MEDIA_INFO'][segment_num]['description_audio_format']= \"wav\"\n",
    "        media_information['MEDIA_INFO'][segment_num]['description_audio_loc']= audio_op_path\n",
    "\n",
    "    # Transcribe the audio\n",
    "    audio_file_path= media_information['MEDIA_INFO'][segment_num]['description_audio_loc']\n",
    "    description_text= ASR_audio_description(audio_file_path)\n",
    "    media_information['MEDIA_INFO'][segment_num]['description_text']= description_text\n",
    "    print(description_text)"
   ]
  },
  {
   "cell_type": "code",
   "execution_count": 4,
   "metadata": {},
   "outputs": [
    {
     "name": "stdout",
     "output_type": "stream",
     "text": [
      "Vlog Story Created\n"
     ]
    },
    {
     "data": {
      "text/plain": [
       "{'Title': 'Exploring the Great Sand Dunes National Park',\n",
       " 'Starter': 'Welcome to my vlog of my thrilling adventure at the Great Sand Dunes National Park.',\n",
       " 'Section_1': 'The day began early as I drove 400 miles to the national park, brimming with excitement for the adventures that awaited me.',\n",
       " 'Section_2': 'At sunrise, I embarked on a hike up the Sand Dune, basking in the pleasant and beautiful sun rays that painted the sky with a golden hue.',\n",
       " 'Section_3': 'As the sun reached its peak at noon, I indulged in the adrenaline-pumping activity of sandboarding, feeling the rush of sliding down the dunes under the hot sun.',\n",
       " 'Section_4': 'Exploring further, I discovered a hidden gem - a small yet stunning waterfall, where I sought solace amidst the serenity of nature.',\n",
       " 'Section_5': 'To end the day on a delicious note, I savored my favorite Indian food, dosa, reminiscing about the remarkable experiences and sights that made this trip truly unforgettable.'}"
      ]
     },
     "execution_count": 4,
     "metadata": {},
     "output_type": "execute_result"
    }
   ],
   "source": [
    "# Create story text with the description text using a LLM\n",
    "\n",
    "story_dict= story_text_generator(media_information)\n",
    "story_dict"
   ]
  },
  {
   "cell_type": "code",
   "execution_count": 5,
   "metadata": {},
   "outputs": [
    {
     "name": "stdout",
     "output_type": "stream",
     "text": [
      "Description audio concatenated!\n",
      "Custom voice speech generation failed\n",
      "{\"error_message\":\"You have reached the maximum number of cloned voices of (1).\",\"error_id\":\"VOICE_CLONING_PACKAGE_LIMIT_REACHED\"}\n"
     ]
    },
    {
     "ename": "HTTPError",
     "evalue": "403 Client Error: Forbidden for url: https://api.play.ht/api/v2/cloned-voices/instant",
     "output_type": "error",
     "traceback": [
      "\u001b[1;31m---------------------------------------------------------------------------\u001b[0m",
      "\u001b[1;31mHTTPError\u001b[0m                                 Traceback (most recent call last)",
      "Cell \u001b[1;32mIn[5], line 16\u001b[0m\n\u001b[0;32m     14\u001b[0m playth_authorization\u001b[38;5;241m=\u001b[39m os\u001b[38;5;241m.\u001b[39menviron[\u001b[38;5;124m'\u001b[39m\u001b[38;5;124mPLAYHT_SECRET_KEY\u001b[39m\u001b[38;5;124m'\u001b[39m]\n\u001b[0;32m     15\u001b[0m playht_userid\u001b[38;5;241m=\u001b[39m os\u001b[38;5;241m.\u001b[39menviron[\u001b[38;5;124m'\u001b[39m\u001b[38;5;124mPLAYHT_USER_ID\u001b[39m\u001b[38;5;124m'\u001b[39m]\n\u001b[1;32m---> 16\u001b[0m custom_voice_info\u001b[38;5;241m=\u001b[39m \u001b[43mcustom_voice_creation\u001b[49m\u001b[43m \u001b[49m\u001b[43m(\u001b[49m\u001b[43mfile_path\u001b[49m\u001b[38;5;241;43m=\u001b[39;49m\u001b[43m \u001b[49m\u001b[43mfile_path\u001b[49m\u001b[43m,\u001b[49m\u001b[43m \u001b[49m\u001b[43mplayth_authorization\u001b[49m\u001b[38;5;241;43m=\u001b[39;49m\u001b[43m \u001b[49m\u001b[43mplayth_authorization\u001b[49m\u001b[43m,\u001b[49m\u001b[43m \u001b[49m\u001b[43mplayht_userid\u001b[49m\u001b[38;5;241;43m=\u001b[39;49m\u001b[43m \u001b[49m\u001b[43mplayht_userid\u001b[49m\u001b[43m,\u001b[49m\u001b[43m \u001b[49m\u001b[43mvoice_name\u001b[49m\u001b[38;5;241;43m=\u001b[39;49m\u001b[43m \u001b[49m\u001b[43mvoice_name\u001b[49m\u001b[43m)\u001b[49m\n\u001b[0;32m     17\u001b[0m custom_voice_info\n",
      "File \u001b[1;32mc:\\Users\\saaij\\OneDrive - UCB-O365\\01. Study\\04. Hackathon and Competitions\\06. TIkTok Tech Jam Hackathon 07-07-2024\\02. Scripts\\playht_processor.py:37\u001b[0m, in \u001b[0;36mcustom_voice_creation\u001b[1;34m(file_path, playth_authorization, playht_userid, voice_name)\u001b[0m\n\u001b[0;32m     35\u001b[0m \u001b[38;5;28mprint\u001b[39m(\u001b[38;5;124m\"\u001b[39m\u001b[38;5;124mCustom voice speech generation failed\u001b[39m\u001b[38;5;124m\"\u001b[39m)\n\u001b[0;32m     36\u001b[0m \u001b[38;5;28mprint\u001b[39m(response\u001b[38;5;241m.\u001b[39mtext)\n\u001b[1;32m---> 37\u001b[0m \u001b[43mresponse\u001b[49m\u001b[38;5;241;43m.\u001b[39;49m\u001b[43mraise_for_status\u001b[49m\u001b[43m(\u001b[49m\u001b[43m)\u001b[49m\n\u001b[0;32m     38\u001b[0m \u001b[38;5;28;01mreturn\u001b[39;00m \u001b[38;5;28;01mNone\u001b[39;00m\n",
      "File \u001b[1;32md:\\Jupyter\\lib\\site-packages\\requests\\models.py:1021\u001b[0m, in \u001b[0;36mResponse.raise_for_status\u001b[1;34m(self)\u001b[0m\n\u001b[0;32m   1016\u001b[0m     http_error_msg \u001b[38;5;241m=\u001b[39m (\n\u001b[0;32m   1017\u001b[0m         \u001b[38;5;124mf\u001b[39m\u001b[38;5;124m\"\u001b[39m\u001b[38;5;132;01m{\u001b[39;00m\u001b[38;5;28mself\u001b[39m\u001b[38;5;241m.\u001b[39mstatus_code\u001b[38;5;132;01m}\u001b[39;00m\u001b[38;5;124m Server Error: \u001b[39m\u001b[38;5;132;01m{\u001b[39;00mreason\u001b[38;5;132;01m}\u001b[39;00m\u001b[38;5;124m for url: \u001b[39m\u001b[38;5;132;01m{\u001b[39;00m\u001b[38;5;28mself\u001b[39m\u001b[38;5;241m.\u001b[39murl\u001b[38;5;132;01m}\u001b[39;00m\u001b[38;5;124m\"\u001b[39m\n\u001b[0;32m   1018\u001b[0m     )\n\u001b[0;32m   1020\u001b[0m \u001b[38;5;28;01mif\u001b[39;00m http_error_msg:\n\u001b[1;32m-> 1021\u001b[0m     \u001b[38;5;28;01mraise\u001b[39;00m HTTPError(http_error_msg, response\u001b[38;5;241m=\u001b[39m\u001b[38;5;28mself\u001b[39m)\n",
      "\u001b[1;31mHTTPError\u001b[0m: 403 Client Error: Forbidden for url: https://api.play.ht/api/v2/cloned-voices/instant"
     ]
    }
   ],
   "source": [
    "# Create custom voice with the description audio\n",
    "\n",
    "# Concatenate description audio files to use it as custom voice creation input\n",
    "file_loc_list=[]\n",
    "for segment_num in range (media_information['STARTER']['number_of_segments']):\n",
    "    file_loc_list.append(media_information['MEDIA_INFO'][segment_num]['description_audio_loc'])\n",
    "output_location= '../01. Input Media//02. Description Audio//Description_Combined.wav'\n",
    "concatenate_audio_files(file_loc_list, output_location)\n",
    "media_information['STARTER'][\"combined_description_audio_loc\"]= output_location\n",
    "\n",
    "# Create custom voice with the concatenated description audio\n",
    "file_path= media_information['STARTER'][\"combined_description_audio_loc\"]\n",
    "voice_name= \"custom_voice\"\n",
    "playth_authorization= os.environ['PLAYHT_SECRET_KEY']\n",
    "playht_userid= os.environ['PLAYHT_USER_ID']\n",
    "custom_voice_info= custom_voice_creation (file_path= file_path, playth_authorization= playth_authorization, playht_userid= playht_userid, voice_name= voice_name)\n",
    "custom_voice_info"
   ]
  },
  {
   "cell_type": "code",
   "execution_count": 6,
   "metadata": {},
   "outputs": [
    {
     "name": "stdout",
     "output_type": "stream",
     "text": [
      "Generating Voiceover...\n",
      "Voiceover Generated\n",
      "Extracted URL: https://peregrine-results.s3.amazonaws.com/pigeon/nc1iA8dIsKtPwfXvRo_0.mp3\n",
      "Audio file downloaded successfully and saved in '../03. Intermediate Results//custom_speech_voiceover.mp3'.\n"
     ]
    }
   ],
   "source": [
    "# Create video voiceover with the story text\n",
    "story_text= story_dict['Starter']\n",
    "for segment_num in range (media_information['STARTER']['number_of_segments']): \n",
    "    story_text= \" \" + story_text+ story_dict[f'Section_{segment_num+1}']\n",
    "voice_id= \"s3://voice-cloning-zero-shot/cd33caf2-0de7-4853-8f46-7b52048ccb28/custom-voice/manifest.json\"\n",
    "#voice_id= custom_voice_info['id']\n",
    "voiceover_save_path= \"../03. Intermediate Results//custom_speech_voiceover.mp3\"\n",
    "voiceover_job_id= text_to_audio (playth_authorization= playth_authorization, playht_userid= playht_userid, story_text= story_text, voice_id= voice_id, voiceover_save_path= voiceover_save_path)"
   ]
  },
  {
   "cell_type": "code",
   "execution_count": 7,
   "metadata": {},
   "outputs": [
    {
     "name": "stdout",
     "output_type": "stream",
     "text": [
      "Creating Transcript Job...\n",
      "Transcript Job Created\n",
      "\n",
      "Downloading Transcript...\n",
      "    Attempt 1\n",
      "    Attempt 2\n",
      "Transcript Downloaded\n"
     ]
    }
   ],
   "source": [
    "# Generate timestamps & subtitles from the custom voiceover\n",
    "subtitle_segments= transcript_timestamp(job_id= voiceover_job_id, playth_authorization= playth_authorization, playht_userid= playht_userid)"
   ]
  },
  {
   "cell_type": "code",
   "execution_count": 8,
   "metadata": {},
   "outputs": [
    {
     "name": "stdout",
     "output_type": "stream",
     "text": [
      "Subtitles Matched\n"
     ]
    },
    {
     "data": {
      "text/plain": [
       "{'Title': {'story_text': 'Exploring the Great Sand Dunes National Park',\n",
       "  'start': None,\n",
       "  'end': None,\n",
       "  'subtitle': []},\n",
       " 'Starter': {'story_text': 'Welcome to my vlog of my thrilling adventure at the Great Sand Dunes National Park.',\n",
       "  'start': 0.08,\n",
       "  'end': 3.94,\n",
       "  'subtitle': [{'start': 0.08,\n",
       "    'end': 3.94,\n",
       "    'text': 'Welcome to my vlog of my thrilling adventure at the Great Sand Dunes National Park.'}]},\n",
       " 'Section_1': {'story_text': 'The day began early as I drove 400 miles to the national park, brimming with excitement for the adventures that awaited me.',\n",
       "  'start': 4.32,\n",
       "  'end': 11.12,\n",
       "  'subtitle': [{'start': 4.32,\n",
       "    'end': 7.98,\n",
       "    'text': 'The day began early as I drove 400 miles to the national park,'},\n",
       "   {'start': 8.34, 'end': 9.8, 'text': 'brimming with excitement for the'},\n",
       "   {'start': 9.84, 'end': 11.12, 'text': 'adventures that awaited me.'}]},\n",
       " 'Section_2': {'story_text': 'At sunrise, I embarked on a hike up the Sand Dune, basking in the pleasant and beautiful sun rays that painted the sky with a golden hue.',\n",
       "  'start': 11.82,\n",
       "  'end': 20,\n",
       "  'subtitle': [{'start': 11.82,\n",
       "    'end': 14.6,\n",
       "    'text': 'At sunrise, I embarked on a hike up the Sand Dune,'},\n",
       "   {'start': 14.82,\n",
       "    'end': 20,\n",
       "    'text': 'basking in the pleasant and beautiful sun rays that painted the sky with a golden hue.'}]},\n",
       " 'Section_3': {'story_text': 'As the sun reached its peak at noon, I indulged in the adrenaline-pumping activity of sandboarding, feeling the rush of sliding down the dunes under the hot sun.',\n",
       "  'start': 20.68,\n",
       "  'end': 28.08,\n",
       "  'subtitle': [{'start': 20.68, 'end': 21.36, 'text': 'As the sun reached'},\n",
       "   {'start': 21.36, 'end': 22.2, 'text': 'its peak at noon,'},\n",
       "   {'start': 22.3,\n",
       "    'end': 24.94,\n",
       "    'text': 'I indulged in the adrenaline-pumping activity of sandboarding,'},\n",
       "   {'start': 25.58,\n",
       "    'end': 28.08,\n",
       "    'text': 'feeling the rush of sliding down the dunes under the hot sun.'}]},\n",
       " 'Section_4': {'story_text': 'Exploring further, I discovered a hidden gem - a small yet stunning waterfall, where I sought solace amidst the serenity of nature.',\n",
       "  'start': 28.82,\n",
       "  'end': 36.26,\n",
       "  'subtitle': [{'start': 28.82,\n",
       "    'end': 31.62,\n",
       "    'text': 'Exploring further, I discovered a hidden gem - a small yet stunning waterfall,'},\n",
       "   {'start': 31.98,\n",
       "    'end': 33.66,\n",
       "    'text': 'where I sought solace amidst the serenity of nature.'}]},\n",
       " 'Section_5': {'story_text': 'To end the day on a delicious note, I savored my favorite Indian food, dosa, reminiscing about the remarkable experiences and sights that made this trip truly unforgettable.',\n",
       "  'start': 36.879999999999995,\n",
       "  'end': 46.68,\n",
       "  'subtitle': [{'start': 36.879999999999995,\n",
       "    'end': 38.6,\n",
       "    'text': 'To end the day on a delicious note,'},\n",
       "   {'start': 38.96,\n",
       "    'end': 41,\n",
       "    'text': 'I savored my favorite Indian food, dosa,'},\n",
       "   {'start': 41.26,\n",
       "    'end': 46.68,\n",
       "    'text': 'reminiscing about the remarkable experiences and sights that made this trip truly unforgettable.'}]}}"
      ]
     },
     "execution_count": 8,
     "metadata": {},
     "output_type": "execute_result"
    }
   ],
   "source": [
    "# Match the actual and ideal subtitle\n",
    "\n",
    "actual_sub_list=[]\n",
    "for segment in subtitle_segments:\n",
    "    actual_sub_list.append([segment['start'], segment['end'], segment['text']])\n",
    "\n",
    "subs_dict= subtitle_matcher (ideal_sub_dict= story_dict, actual_sub_list= actual_sub_list)\n",
    "subs_dict"
   ]
  },
  {
   "cell_type": "code",
   "execution_count": 9,
   "metadata": {},
   "outputs": [
    {
     "data": {
      "text/plain": [
       "dict_keys(['Title', 'Starter', 'Section_1', 'Section_2', 'Section_3', 'Section_4', 'Section_5'])"
      ]
     },
     "execution_count": 9,
     "metadata": {},
     "output_type": "execute_result"
    }
   ],
   "source": [
    "subs_dict.keys()"
   ]
  },
  {
   "cell_type": "code",
   "execution_count": null,
   "metadata": {},
   "outputs": [],
   "source": []
  }
 ],
 "metadata": {
  "kernelspec": {
   "display_name": "base",
   "language": "python",
   "name": "python3"
  },
  "language_info": {
   "codemirror_mode": {
    "name": "ipython",
    "version": 3
   },
   "file_extension": ".py",
   "mimetype": "text/x-python",
   "name": "python",
   "nbconvert_exporter": "python",
   "pygments_lexer": "ipython3",
   "version": "3.10.9"
  }
 },
 "nbformat": 4,
 "nbformat_minor": 2
}
