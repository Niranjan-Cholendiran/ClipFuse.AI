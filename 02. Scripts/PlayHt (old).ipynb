{
 "cells": [
  {
   "cell_type": "markdown",
   "metadata": {},
   "source": [
    "# Text to Standard Speech\n",
    "\n",
    "* Convert text to speech\n",
    "* Download the speech and store it locally\n",
    "\n",
    "Reference: https://docs.play.ht/reference/api-generate-audio"
   ]
  },
  {
   "cell_type": "code",
   "execution_count": 98,
   "metadata": {},
   "outputs": [
    {
     "data": {
      "text/plain": [
       "True"
      ]
     },
     "execution_count": 98,
     "metadata": {},
     "output_type": "execute_result"
    }
   ],
   "source": [
    "import os\n",
    "from pyht import Client\n",
    "import requests\n",
    "import re \n",
    "from dotenv import load_dotenv\n",
    "import json\n",
    "\n",
    "load_dotenv()\n",
    " \n",
    "#print(os.environ['PLAYHT_USER_ID'])"
   ]
  },
  {
   "cell_type": "code",
   "execution_count": 99,
   "metadata": {},
   "outputs": [
    {
     "name": "stdout",
     "output_type": "stream",
     "text": [
      "Generating Voiceover...\n",
      "Voiceover Generated\n"
     ]
    }
   ],
   "source": [
    "# Text to standard speech\n",
    "\n",
    "story_text= \"Okay sure. I'm super excited to meet you!\" #\"Hello! Welcome to my vlog of my recent trip to the Great Sand Dunes National Park!\\n\\nThe trip started with a 400 miles drive for 4 hours and ended with my favourite Indian food Dosa!\"\n",
    "custom_voice_id= \"s3://voice-cloning-zero-shot/d9ff78ba-d016-47f6-b0ef-dd630f59414e/female-cs/manifest.json\"\n",
    "voiceover_save_path= \"../03. Intermediate Outputs//test.mp3\"\n",
    "\n",
    "# Configure Plyht\n",
    "url = \"https://api.play.ht/api/v2/tts\"\n",
    "\n",
    "payload = {\n",
    "    \"text\": story_text,\n",
    "    \"voice\": custom_voice_id,\n",
    "    \"output_format\": \"mp3\",\n",
    "    \"voice_engine\": \"PlayHT2.0\",\n",
    "    \"quality\": \"medium\",\n",
    "    \"seed\": 7,\n",
    "    \"temperature\": 1,\n",
    "    \"emotion\": \"male_happy\",\n",
    "    \"style_guidance\": 20\n",
    "}\n",
    "\n",
    "headers = {\n",
    "    \"accept\": \"text/event-stream\",\n",
    "    \"content-type\": \"application/json\",\n",
    "    \"AUTHORIZATION\": os.environ['PLAYHT_SECRET_KEY'],\n",
    "    \"X-USER-ID\": os.environ['PLAYHT_USER_ID']\n",
    "}\n",
    "\n",
    "# Generate and download custom voiceover \n",
    "print(\"Generating Voiceover...\")\n",
    "response = requests.post(url, json=payload, headers=headers)\n",
    "\n",
    "#print(response.text)\n",
    "#print(response.__dict__)\n",
    "\n",
    "if (response.status_code in [200, 201]):\n",
    "    print(\"Voiceover Generated\")\n",
    "else:\n",
    "    print(response)\n",
    "    print(json.loads(response.__dict__['_content'])['error_message'])\n",
    "    response.raise_for_status()"
   ]
  },
  {
   "cell_type": "code",
   "execution_count": 100,
   "metadata": {},
   "outputs": [
    {
     "name": "stdout",
     "output_type": "stream",
     "text": [
      "Extracted URL: https://peregrine-results.s3.amazonaws.com/pigeon/q0RTsbB7h0xCwIdLli_0.mp3\n",
      "Audio file downloaded successfully and saved in '../03. Intermediate Outputs//test.mp3'.\n"
     ]
    }
   ],
   "source": [
    "# Extract URL from response using re and download audio\n",
    "\n",
    "## Define a regular expression pattern to find the URL in the text\n",
    "url_pattern = r'url\":\\s*\"([^\"]*)\"'\n",
    "url_match = re.search(url_pattern, response.text)\n",
    "\n",
    "if url_match:\n",
    "    response_url = url_match.group(1)\n",
    "    print(\"Extracted URL:\", response_url)\n",
    "    ## Download the audio file\n",
    "    try:\n",
    "        response_audio = requests.get(response_url)\n",
    "        if response_audio.status_code == 200:\n",
    "            file_path = voiceover_save_path \n",
    "            \n",
    "            with open(file_path, 'wb') as f:\n",
    "                f.write(response_audio.content)\n",
    "            \n",
    "            print(f\"Audio file downloaded successfully and saved in '{file_path}'.\")\n",
    "        else:\n",
    "            print(f\"Failed to download the audio file. Status code: {response_audio.status_code}\")\n",
    "    except requests.RequestException as e:\n",
    "        print(f\"Error downloading the audio file: {e}\")\n",
    "else:\n",
    "    print(\"URL not found in the text.\")\n"
   ]
  },
  {
   "cell_type": "markdown",
   "metadata": {},
   "source": [
    "# Text to Custom Voice"
   ]
  },
  {
   "cell_type": "markdown",
   "metadata": {},
   "source": [
    "# Text to Custom Voice with Timestamps\n",
    "\n",
    "Reference: https://docs.play.ht/reference/api-transcribe-audio"
   ]
  },
  {
   "cell_type": "code",
   "execution_count": 101,
   "metadata": {},
   "outputs": [
    {
     "data": {
      "text/plain": [
       "{'_content': b'event: generating\\r\\ndata: {\"id\":\"q0RTsbB7h0xCwIdLli\",\"progress\":0,\"stage\":\"queued\"}\\r\\n\\r\\nevent: generating\\r\\ndata: {\"id\":\"q0RTsbB7h0xCwIdLli\",\"progress\":0.01,\"stage\":\"active\"}\\r\\n\\r\\nevent: generating\\r\\ndata: {\"id\":\"q0RTsbB7h0xCwIdLli\",\"progress\":0.01,\"stage\":\"preload\",\"stage_progress\":0}\\r\\n\\r\\nevent: generating\\r\\ndata: {\"id\":\"q0RTsbB7h0xCwIdLli\",\"progress\":0.11,\"stage\":\"preload\",\"stage_progress\":0.5}\\r\\n\\r\\nevent: generating\\r\\ndata: {\"id\":\"q0RTsbB7h0xCwIdLli\",\"progress\":0.21,\"stage\":\"preload\",\"stage_progress\":1}\\r\\n\\r\\nevent: generating\\r\\ndata: {\"id\":\"q0RTsbB7h0xCwIdLli\",\"progress\":0.21,\"stage\":\"generate\",\"stage_progress\":0}\\r\\n\\r\\nevent: generating\\r\\ndata: {\"id\":\"q0RTsbB7h0xCwIdLli\",\"progress\":0.32,\"stage\":\"generate\",\"stage_progress\":0.2}\\r\\n\\r\\nevent: generating\\r\\ndata: {\"id\":\"q0RTsbB7h0xCwIdLli\",\"progress\":0.74,\"stage\":\"postprocessing\",\"stage_progress\":0}\\r\\n\\r\\nevent: generating\\r\\ndata: {\"id\":\"q0RTsbB7h0xCwIdLli\",\"progress\":0.82,\"stage\":\"postprocessing\",\"stage_progress\":0.33}\\r\\n\\r\\nevent: generating\\r\\ndata: {\"id\":\"q0RTsbB7h0xCwIdLli\",\"progress\":0.91,\"stage\":\"postprocessing\",\"stage_progress\":0.67}\\r\\n\\r\\nevent: generating\\r\\ndata: {\"id\":\"q0RTsbB7h0xCwIdLli\",\"progress\":0.99,\"stage\":\"postprocessing\",\"stage_progress\":1}\\r\\n\\r\\nevent: completed\\r\\ndata: {\"id\":\"q0RTsbB7h0xCwIdLli\",\"progress\":1,\"stage\":\"complete\",\"url\":\"https://peregrine-results.s3.amazonaws.com/pigeon/q0RTsbB7h0xCwIdLli_0.mp3\",\"duration\":2.4533,\"size\":50925}\\r\\n\\r\\n',\n",
       " '_content_consumed': True,\n",
       " '_next': None,\n",
       " 'status_code': 200,\n",
       " 'headers': {'Date': 'Thu, 04 Jul 2024 21:00:42 GMT', 'Content-Type': 'text/event-stream; charset=utf-8', 'Transfer-Encoding': 'chunked', 'Connection': 'keep-alive', 'Cache-Control': 'no-cache', 'Content-Location': 'https://api.play.ht/api/v2/tts/q0RTsbB7h0xCwIdLli?format=event-stream'},\n",
       " 'raw': <urllib3.response.HTTPResponse at 0x20326e5f760>,\n",
       " 'url': 'https://api.play.ht/api/v2/tts',\n",
       " 'encoding': 'utf-8',\n",
       " 'history': [],\n",
       " 'reason': 'OK',\n",
       " 'cookies': <RequestsCookieJar[]>,\n",
       " 'elapsed': datetime.timedelta(microseconds=680773),\n",
       " 'request': <PreparedRequest [POST]>,\n",
       " 'connection': <requests.adapters.HTTPAdapter at 0x20326e5dff0>}"
      ]
     },
     "execution_count": 101,
     "metadata": {},
     "output_type": "execute_result"
    }
   ],
   "source": [
    "response.__dict__"
   ]
  },
  {
   "cell_type": "code",
   "execution_count": 102,
   "metadata": {},
   "outputs": [
    {
     "name": "stdout",
     "output_type": "stream",
     "text": [
      "event: generating\n",
      "data: {\"id\":\"q0RTsbB7h0xCwIdLli\",\"progress\":0,\"stage\":\"queued\"}\n",
      "\n",
      "event: generating\n",
      "data: {\"id\":\"q0RTsbB7h0xCwIdLli\",\"progress\":0.01,\"stage\":\"active\"}\n",
      "\n",
      "event: generating\n",
      "data: {\"id\":\"q0RTsbB7h0xCwIdLli\",\"progress\":0.01,\"stage\":\"preload\",\"stage_progress\":0}\n",
      "\n",
      "event: generating\n",
      "data: {\"id\":\"q0RTsbB7h0xCwIdLli\",\"progress\":0.11,\"stage\":\"preload\",\"stage_progress\":0.5}\n",
      "\n",
      "event: generating\n",
      "data: {\"id\":\"q0RTsbB7h0xCwIdLli\",\"progress\":0.21,\"stage\":\"preload\",\"stage_progress\":1}\n",
      "\n",
      "event: generating\n",
      "data: {\"id\":\"q0RTsbB7h0xCwIdLli\",\"progress\":0.21,\"stage\":\"generate\",\"stage_progress\":0}\n",
      "\n",
      "event: generating\n",
      "data: {\"id\":\"q0RTsbB7h0xCwIdLli\",\"progress\":0.32,\"stage\":\"generate\",\"stage_progress\":0.2}\n",
      "\n",
      "event: generating\n",
      "data: {\"id\":\"q0RTsbB7h0xCwIdLli\",\"progress\":0.74,\"stage\":\"postprocessing\",\"stage_progress\":0}\n",
      "\n",
      "event: generating\n",
      "data: {\"id\":\"q0RTsbB7h0xCwIdLli\",\"progress\":0.82,\"stage\":\"postprocessing\",\"stage_progress\":0.33}\n",
      "\n",
      "event: generating\n",
      "data: {\"id\":\"q0RTsbB7h0xCwIdLli\",\"progress\":0.91,\"stage\":\"postprocessing\",\"stage_progress\":0.67}\n",
      "\n",
      "event: generating\n",
      "data: {\"id\":\"q0RTsbB7h0xCwIdLli\",\"progress\":0.99,\"stage\":\"postprocessing\",\"stage_progress\":1}\n",
      "\n",
      "event: completed\n",
      "data: {\"id\":\"q0RTsbB7h0xCwIdLli\",\"progress\":1,\"stage\":\"complete\",\"url\":\"https://peregrine-results.s3.amazonaws.com/pigeon/q0RTsbB7h0xCwIdLli_0.mp3\",\"duration\":2.4533,\"size\":50925}\n",
      "\n",
      "\n"
     ]
    }
   ],
   "source": [
    "print(response.text)"
   ]
  },
  {
   "cell_type": "code",
   "execution_count": 104,
   "metadata": {},
   "outputs": [],
   "source": [
    "text_test= \"\"\"\n",
    "event: generating\n",
    "data: {\"id\":\"q0RTsbB7h0xCwIdLli\",\"progress\":0,\"stage\":\"queued\"}\n",
    "\n",
    "event: generating\n",
    "data: {\"id\":\"q0RTsbB7h0xCwIdLli\",\"progress\":0.01,\"stage\":\"active\"}\n",
    "\n",
    "event: generating\n",
    "data: {\"id\":\"q0RTsbB7h0xCwIdLli\",\"progress\":0.01,\"stage\":\"preload\",\"stage_progress\":0}\n",
    "\n",
    "event: generating\n",
    "data: {\"id\":\"q0RTsbB7h0xCwIdLli\",\"progress\":0.11,\"stage\":\"preload\",\"stage_progress\":0.5}\n",
    "\n",
    "event: generating\n",
    "data: {\"id\":\"q0RTsbB7h0xCwIdLli\",\"progress\":0.21,\"stage\":\"preload\",\"stage_progress\":1}\n",
    "\n",
    "event: generating\n",
    "data: {\"id\":\"q0RTsbB7h0xCwIdLli\",\"progress\":0.21,\"stage\":\"generate\",\"stage_progress\":0}\n",
    "\n",
    "event: generating\n",
    "data: {\"id\":\"q0RTsbB7h0xCwIdLli\",\"progress\":0.32,\"stage\":\"generate\",\"stage_progress\":0.2}\n",
    "\n",
    "event: generating\n",
    "data: {\"id\":\"q0RTsbB7h0xCwIdLli\",\"progress\":0.74,\"stage\":\"postprocessing\",\"stage_progress\":0}\n",
    "\n",
    "event: generating\n",
    "data: {\"id\":\"q0RTsbB7h0xCwIdLli\",\"progress\":0.82,\"stage\":\"postprocessing\",\"stage_progress\":0.33}\n",
    "\n",
    "event: generating\n",
    "data: {\"id\":\"q0RTsbB7h0xCwIdLli\",\"progress\":0.91,\"stage\":\"postprocessing\",\"stage_progress\":0.67}\n",
    "\n",
    "event: generating\n",
    "data: {\"id\":\"q0RTsbB7h0xCwIdLli\",\"progress\":0.99,\"stage\":\"postprocessing\",\"stage_progress\":1}\n",
    "\n",
    "event: completed\n",
    "data: {\"id\":\"q0RTsbB7h0xCwIdLli\",\"progress\":1,\"stage\":\"complete\",\"url\":\"https://peregrine-results.s3.amazonaws.com/pigeon/q0RTsbB7h0xCwIdLli_0.mp3\",\"duration\":2.4533,\"size\":50925}\n",
    "\n",
    "\"\"\""
   ]
  },
  {
   "cell_type": "code",
   "execution_count": 113,
   "metadata": {},
   "outputs": [
    {
     "data": {
      "text/plain": [
       "{'id': 'q0RTsbB7h0xCwIdLli',\n",
       " 'progress': 1,\n",
       " 'stage': 'complete',\n",
       " 'url': 'https://peregrine-results.s3.amazonaws.com/pigeon/q0RTsbB7h0xCwIdLli_0.mp3',\n",
       " 'duration': 2.4533,\n",
       " 'size': 50925}"
      ]
     },
     "execution_count": 113,
     "metadata": {},
     "output_type": "execute_result"
    }
   ],
   "source": [
    "l= text_test.find(\"event: completed\\ndata: \")\n",
    "json.loads(text_test[l+len(\"event: completed\\ndata: \"):].replace(\"\\n\",''))"
   ]
  },
  {
   "cell_type": "code",
   "execution_count": 103,
   "metadata": {},
   "outputs": [
    {
     "data": {
      "text/plain": [
       "{'_content': b'event: generating\\r\\ndata: {\"id\":\"q0RTsbB7h0xCwIdLli\",\"progress\":0,\"stage\":\"queued\"}\\r\\n\\r\\nevent: generating\\r\\ndata: {\"id\":\"q0RTsbB7h0xCwIdLli\",\"progress\":0.01,\"stage\":\"active\"}\\r\\n\\r\\nevent: generating\\r\\ndata: {\"id\":\"q0RTsbB7h0xCwIdLli\",\"progress\":0.01,\"stage\":\"preload\",\"stage_progress\":0}\\r\\n\\r\\nevent: generating\\r\\ndata: {\"id\":\"q0RTsbB7h0xCwIdLli\",\"progress\":0.11,\"stage\":\"preload\",\"stage_progress\":0.5}\\r\\n\\r\\nevent: generating\\r\\ndata: {\"id\":\"q0RTsbB7h0xCwIdLli\",\"progress\":0.21,\"stage\":\"preload\",\"stage_progress\":1}\\r\\n\\r\\nevent: generating\\r\\ndata: {\"id\":\"q0RTsbB7h0xCwIdLli\",\"progress\":0.21,\"stage\":\"generate\",\"stage_progress\":0}\\r\\n\\r\\nevent: generating\\r\\ndata: {\"id\":\"q0RTsbB7h0xCwIdLli\",\"progress\":0.32,\"stage\":\"generate\",\"stage_progress\":0.2}\\r\\n\\r\\nevent: generating\\r\\ndata: {\"id\":\"q0RTsbB7h0xCwIdLli\",\"progress\":0.74,\"stage\":\"postprocessing\",\"stage_progress\":0}\\r\\n\\r\\nevent: generating\\r\\ndata: {\"id\":\"q0RTsbB7h0xCwIdLli\",\"progress\":0.82,\"stage\":\"postprocessing\",\"stage_progress\":0.33}\\r\\n\\r\\nevent: generating\\r\\ndata: {\"id\":\"q0RTsbB7h0xCwIdLli\",\"progress\":0.91,\"stage\":\"postprocessing\",\"stage_progress\":0.67}\\r\\n\\r\\nevent: generating\\r\\ndata: {\"id\":\"q0RTsbB7h0xCwIdLli\",\"progress\":0.99,\"stage\":\"postprocessing\",\"stage_progress\":1}\\r\\n\\r\\nevent: completed\\r\\ndata: {\"id\":\"q0RTsbB7h0xCwIdLli\",\"progress\":1,\"stage\":\"complete\",\"url\":\"https://peregrine-results.s3.amazonaws.com/pigeon/q0RTsbB7h0xCwIdLli_0.mp3\",\"duration\":2.4533,\"size\":50925}\\r\\n\\r\\n',\n",
       " '_content_consumed': True,\n",
       " '_next': None,\n",
       " 'status_code': 200,\n",
       " 'headers': {'Date': 'Thu, 04 Jul 2024 21:00:42 GMT', 'Content-Type': 'text/event-stream; charset=utf-8', 'Transfer-Encoding': 'chunked', 'Connection': 'keep-alive', 'Cache-Control': 'no-cache', 'Content-Location': 'https://api.play.ht/api/v2/tts/q0RTsbB7h0xCwIdLli?format=event-stream'},\n",
       " 'raw': <urllib3.response.HTTPResponse at 0x20326e5f760>,\n",
       " 'url': 'https://api.play.ht/api/v2/tts',\n",
       " 'encoding': 'utf-8',\n",
       " 'history': [],\n",
       " 'reason': 'OK',\n",
       " 'cookies': <RequestsCookieJar[]>,\n",
       " 'elapsed': datetime.timedelta(microseconds=680773),\n",
       " 'request': <PreparedRequest [POST]>,\n",
       " 'connection': <requests.adapters.HTTPAdapter at 0x20326e5dff0>}"
      ]
     },
     "execution_count": 103,
     "metadata": {},
     "output_type": "execute_result"
    }
   ],
   "source": [
    "response.__dict__"
   ]
  },
  {
   "cell_type": "code",
   "execution_count": 91,
   "metadata": {},
   "outputs": [
    {
     "name": "stdout",
     "output_type": "stream",
     "text": [
      "{\"id\":\"ZUIqpC5UdhEHAXUcWf\",\"status\":\"active\",\"webhook_url\":null,\"format\":\"JSON\",\"timestamp_level\":\"SENTENCE\",\"_links\":[{\"href\":\"https://api.play.ht/api/v2/transcriptions/ZUIqpC5UdhEHAXUcWf\",\"method\":\"GET\",\"contentType\":\"application/json\",\"rel\":\"self\",\"description\":\"Get the status and result of the transcription job\"}]}\n"
     ]
    }
   ],
   "source": [
    "# Generate timestamp and transcripts\n",
    "\n",
    "#ToDO: \n",
    "    # Extract Job ID\n",
    "    # Wait for the status to turn green and extract the transcript\n",
    "\n",
    "# Create timestamp job\n",
    "response_job_id= 'ZUIqpC5UdhEHAXUcWf'\n",
    "\n",
    "url = \"https://api.play.ht/api/v2/transcriptions\"\n",
    "\n",
    "payload = {\n",
    "    \"tts_job_id\": response_job_id,\n",
    "    \"format\": \"JSON\",\n",
    "    \"timestamp_level\": \"SENTENCE\"\n",
    "}\n",
    "\n",
    "headers = {\n",
    "    \"accept\": \"application/json\",\n",
    "    \"content-type\": \"application/json\",\n",
    "    \"AUTHORIZATION\": os.environ['PLAYHT_SECRET_KEY'],\n",
    "    \"X-USER-ID\": os.environ['PLAYHT_USER_ID']\n",
    "}\n",
    "\n",
    "response_timestamp_job = requests.post(url, json=payload, headers=headers)\n",
    "\n",
    "print(response_timestamp_job.text)\n",
    "\n",
    "# Wait for the job to complete\n",
    "\n",
    "# Collect transcript\n",
    "\n",
    "url = f\"https://api.play.ht/api/v2/transcriptions/{response_job_id}\"\n",
    "\n",
    "headers = {\n",
    "    \"accept\": \"application/json\",\n",
    "    \"AUTHORIZATION\": os.environ['PLAYHT_SECRET_KEY'],\n",
    "    \"X-USER-ID\": os.environ['PLAYHT_USER_ID']\n",
    "}\n",
    "\n",
    "response_timestamp = requests.get(url, headers=headers)\n",
    "\n",
    "print(response_timestamp.text)"
   ]
  },
  {
   "cell_type": "code",
   "execution_count": null,
   "metadata": {},
   "outputs": [],
   "source": []
  }
 ],
 "metadata": {
  "kernelspec": {
   "display_name": "base",
   "language": "python",
   "name": "python3"
  },
  "language_info": {
   "codemirror_mode": {
    "name": "ipython",
    "version": 3
   },
   "file_extension": ".py",
   "mimetype": "text/x-python",
   "name": "python",
   "nbconvert_exporter": "python",
   "pygments_lexer": "ipython3",
   "version": "3.10.9"
  }
 },
 "nbformat": 4,
 "nbformat_minor": 2
}
