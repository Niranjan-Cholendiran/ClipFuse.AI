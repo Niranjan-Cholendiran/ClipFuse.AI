{
 "cells": [
  {
   "cell_type": "code",
   "execution_count": null,
   "metadata": {},
   "outputs": [],
   "source": [
    "from pydub import AudioSegment\n",
    "import speech_recognition as sr"
   ]
  },
  {
   "cell_type": "code",
   "execution_count": 12,
   "metadata": {},
   "outputs": [],
   "source": [
    "# Function to convert audio format\n",
    "\n",
    "def audio_format_converter(audio_ip_path, audio_op_path, format=\"wav\"):\n",
    "    sound = AudioSegment.from_mp3(audio_ip_path)\n",
    "    sound.export(audio_op_path, format= format)\n",
    "    print(f\"Audio converted and saved in {format} format\")\n",
    "\n",
    "#audio_format_converter(\"Whisper_ip_test.mp3\", \"Whisper_ip_test.wav\", format=\"wav\")"
   ]
  },
  {
   "cell_type": "code",
   "execution_count": 15,
   "metadata": {},
   "outputs": [
    {
     "name": "stdout",
     "output_type": "stream",
     "text": [
      "ASR Successful!\n"
     ]
    },
    {
     "data": {
      "text/plain": [
       "'hello welcome to my Vlog of my recent trip to the National Park'"
      ]
     },
     "execution_count": 15,
     "metadata": {},
     "output_type": "execute_result"
    }
   ],
   "source": [
    "# Function to perform ASR on input audio description\n",
    "\n",
    "def ASR_audio_description(audio_file_path):\n",
    "    \"\"\"Takes the audio file path (make sure the audio is in WAV format for seemless transcription) and returns the transcript text\"\"\"\n",
    "    recognizer = sr.Recognizer()\n",
    "\n",
    "    # Open the audio file and recognize speech using Google Web Speech API\n",
    "    with sr.AudioFile(audio_file_path) as source:\n",
    "        audio_data = recognizer.record(source)\n",
    "        try:\n",
    "            text = recognizer.recognize_google(audio_data)  \n",
    "            print(\"ASR Successful!\")\n",
    "            return text\n",
    "            #print(\"Transcription:\", text)\n",
    "        except sr.UnknownValueError:\n",
    "            print(\"ASR Failed\")\n",
    "            print(\"Google Web Speech API could not understand the audio\")\n",
    "            return\n",
    "        except sr.RequestError as e:\n",
    "            print(\"ASR Failed\")\n",
    "            print(f\"Could not request results from Google Web Speech API; {e}\")\n",
    "            return\n",
    "\n",
    "#ASR_audio_description(\"Whisper_ip_test.wav\")"
   ]
  }
 ],
 "metadata": {
  "kernelspec": {
   "display_name": "base",
   "language": "python",
   "name": "python3"
  },
  "language_info": {
   "codemirror_mode": {
    "name": "ipython",
    "version": 3
   },
   "file_extension": ".py",
   "mimetype": "text/x-python",
   "name": "python",
   "nbconvert_exporter": "python",
   "pygments_lexer": "ipython3",
   "version": "3.10.9"
  }
 },
 "nbformat": 4,
 "nbformat_minor": 2
}
