{
 "cells": [
  {
   "cell_type": "markdown",
   "metadata": {},
   "source": [
    "# Text to Standard Speech\n",
    "\n",
    "* Convert text to speech\n",
    "* Download the speech and store it locally\n",
    "\n",
    "Reference: https://docs.play.ht/reference/api-generate-audio"
   ]
  },
  {
   "cell_type": "code",
   "execution_count": 30,
   "metadata": {},
   "outputs": [
    {
     "data": {
      "text/plain": [
       "True"
      ]
     },
     "execution_count": 30,
     "metadata": {},
     "output_type": "execute_result"
    }
   ],
   "source": [
    "import os\n",
    "from pyht import Client\n",
    "import requests\n",
    "import re \n",
    "from dotenv import load_dotenv\n",
    "import json\n",
    "import time\n",
    "\n",
    "load_dotenv()\n",
    " \n",
    "#print(os.environ['PLAYHT_USER_ID'])"
   ]
  },
  {
   "cell_type": "code",
   "execution_count": 31,
   "metadata": {},
   "outputs": [
    {
     "name": "stdout",
     "output_type": "stream",
     "text": [
      "Generating Voiceover...\n",
      "Voiceover Generated\n"
     ]
    }
   ],
   "source": [
    "# Text to standard speech\n",
    "\n",
    "story_text= \"Hello! Welcome to my vlog of my recent trip to the Great Sand Dunes National Park!\\n\\nThe trip started with a 400 miles drive for 4 hours and ended with my favourite Indian food Dosa!\"\n",
    "#\"Okay sure. I'm super excited to meet you!\" \n",
    "custom_voice_id= \"s3://voice-cloning-zero-shot/d9ff78ba-d016-47f6-b0ef-dd630f59414e/female-cs/manifest.json\"\n",
    "voiceover_save_path= \"../03. Intermediate Results//test.mp3\"\n",
    "\n",
    "# Configure Plyht\n",
    "url = \"https://api.play.ht/api/v2/tts\"\n",
    "\n",
    "payload = {\n",
    "    \"text\": story_text,\n",
    "    \"voice\": custom_voice_id,\n",
    "    \"output_format\": \"mp3\",\n",
    "    \"voice_engine\": \"PlayHT2.0\",\n",
    "    \"quality\": \"medium\",\n",
    "    \"seed\": 7,\n",
    "    \"temperature\": 1,\n",
    "    \"emotion\": \"male_happy\",\n",
    "    \"style_guidance\": 20\n",
    "}\n",
    "\n",
    "headers = {\n",
    "    \"accept\": \"text/event-stream\",\n",
    "    \"content-type\": \"application/json\",\n",
    "    \"AUTHORIZATION\": os.environ['PLAYHT_SECRET_KEY'],\n",
    "    \"X-USER-ID\": os.environ['PLAYHT_USER_ID']\n",
    "}\n",
    "\n",
    "# Generate and download custom voiceover \n",
    "print(\"Generating Voiceover...\")\n",
    "response = requests.post(url, json=payload, headers=headers)\n",
    "\n",
    "#print(response.text)\n",
    "#print(response.__dict__)\n",
    "\n",
    "if (response.status_code in [200, 201]):\n",
    "    print(\"Voiceover Generated\")\n",
    "else:\n",
    "    print(response)\n",
    "    print(json.loads(response.__dict__['_content'])['error_message'])\n",
    "    response.raise_for_status()"
   ]
  },
  {
   "cell_type": "code",
   "execution_count": 32,
   "metadata": {},
   "outputs": [
    {
     "name": "stdout",
     "output_type": "stream",
     "text": [
      "Extracted URL: https://peregrine-results.s3.amazonaws.com/pigeon/TJcA2O6GcHWaikPQNJ_0.mp3\n",
      "Audio file downloaded successfully and saved in '../03. Intermediate Outputs//test.mp3'.\n"
     ]
    }
   ],
   "source": [
    "# Extract voiceover job information\n",
    "\n",
    "str_find= 'event: completed\\r\\ndata: '\n",
    "str_find_index= response.text.find(str_find)\n",
    "str_find_index\n",
    "\n",
    "voiceover_job_info= json.loads(response.text[str_find_index+len(str_find):].replace(\"\\n\",'').replace(\"\\r\",''))\n",
    "\n",
    "# Download voiceover\n",
    "response_url=  voiceover_job_info['url']\n",
    "print(\"Extracted URL:\", response_url)\n",
    "\n",
    "try:\n",
    "    response_audio = requests.get(response_url)\n",
    "    if response_audio.status_code == 200:\n",
    "        file_path = voiceover_save_path \n",
    "        \n",
    "        with open(file_path, 'wb') as f:\n",
    "            f.write(response_audio.content)\n",
    "        \n",
    "        print(f\"Audio file downloaded successfully and saved in '{file_path}'.\")\n",
    "    else:\n",
    "        print(f\"Failed to download the audio file. Status code: {response_audio.status_code}\")\n",
    "except requests.RequestException as e:\n",
    "    print(f\"Error downloading the audio file: {e}\")"
   ]
  },
  {
   "cell_type": "markdown",
   "metadata": {},
   "source": [
    "# Generate transcript with timestamps\n",
    "\n",
    "Reference: https://docs.play.ht/reference/api-transcribe-audio"
   ]
  },
  {
   "cell_type": "code",
   "execution_count": 44,
   "metadata": {},
   "outputs": [
    {
     "name": "stdout",
     "output_type": "stream",
     "text": [
      "Creating Transcript Job...\n",
      "Transcript Job Created\n",
      "\n",
      "Downloading Transcript...\n",
      "    Attempt 1\n",
      "Transcript Downloaded\n",
      "\n",
      "\\Transcript with timestamps (secs):\n",
      "0 : 0 -> 4.18 :  Hello! Welcome to my vlog of my recent trip to the Great Sandines National Park.\n",
      "1 : 4.82 -> 9.84 :  The trip started with a 400 miles drive for 4 hours and ended with my favorite Indian food dosa.\n"
     ]
    }
   ],
   "source": [
    "# Generate timestamp and transcripts\n",
    "\n",
    "# Create timestamp job\n",
    "print(\"Creating Transcript Job...\")\n",
    "response_job_id= voiceover_job_info['id']\n",
    "\n",
    "url = \"https://api.play.ht/api/v2/transcriptions\"\n",
    "\n",
    "payload = {\n",
    "    \"tts_job_id\": response_job_id,\n",
    "    \"format\": \"JSON\",\n",
    "    \"timestamp_level\": \"SENTENCE\"\n",
    "}\n",
    "\n",
    "headers = {\n",
    "    \"accept\": \"application/json\",\n",
    "    \"content-type\": \"application/json\",\n",
    "    \"AUTHORIZATION\": os.environ['PLAYHT_SECRET_KEY'],\n",
    "    \"X-USER-ID\": os.environ['PLAYHT_USER_ID']\n",
    "}\n",
    "\n",
    "response_timestamp_job = requests.post(url, json=payload, headers=headers)\n",
    "print(\"Transcript Job Created\")\n",
    "#print(response_timestamp_job.text)\n",
    "\n",
    "\n",
    "\n",
    "# Collect transcript\n",
    "print(\"\\nDownloading Transcript...\")\n",
    "url = f\"https://api.play.ht/api/v2/transcriptions/{response_job_id}\"\n",
    "\n",
    "headers = {\n",
    "    \"accept\": \"application/json\",\n",
    "    \"AUTHORIZATION\": os.environ['PLAYHT_SECRET_KEY'],\n",
    "    \"X-USER-ID\": os.environ['PLAYHT_USER_ID']\n",
    "}\n",
    "\n",
    "response_timestamp = requests.get(url, headers=headers)\n",
    "\n",
    "# Wait for the job to complete\n",
    "attempt_id= 1\n",
    "while(True):\n",
    "    print(f\"    Attempt {attempt_id}\")\n",
    "    response_timestamp = requests.get(url, headers=headers)\n",
    "    if(response_timestamp.status_code in [200,201]):\n",
    "        break\n",
    "    else:\n",
    "        time.sleep(3)\n",
    "        attempt_id+=1\n",
    "        continue\n",
    "    \n",
    "print(\"Transcript Downloaded\")\n",
    "print(\"\\n\\Transcript with timestamps (secs):\") \n",
    "transcription_segments= json.loads(response_timestamp.text)['transcription']['segments']\n",
    "\n",
    "for segment in transcription_segments:\n",
    "    print(segment['id'],':',segment['start'],\"->\", segment['end'],\":\", segment['text'])"
   ]
  }
 ],
 "metadata": {
  "kernelspec": {
   "display_name": "base",
   "language": "python",
   "name": "python3"
  },
  "language_info": {
   "codemirror_mode": {
    "name": "ipython",
    "version": 3
   },
   "file_extension": ".py",
   "mimetype": "text/x-python",
   "name": "python",
   "nbconvert_exporter": "python",
   "pygments_lexer": "ipython3",
   "version": "3.10.9"
  }
 },
 "nbformat": 4,
 "nbformat_minor": 2
}
